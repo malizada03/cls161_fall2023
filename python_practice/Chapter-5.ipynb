{
 "cells": [
  {
   "cell_type": "markdown",
   "id": "20d226e4",
   "metadata": {},
   "source": [
    "# Chapter 5"
   ]
  },
  {
   "cell_type": "markdown",
   "id": "d75ef210",
   "metadata": {},
   "source": [
    "### 5-1"
   ]
  },
  {
   "cell_type": "code",
   "execution_count": 1,
   "id": "4238e6c7",
   "metadata": {},
   "outputs": [
    {
     "name": "stdout",
     "output_type": "stream",
     "text": [
      "\n",
      "Is flavor == 'vanilla'? I predict False.\n",
      "False\n",
      "\n",
      "Is flavor == 'strawberry'? I predict False.\n",
      "False\n",
      "\n",
      "Is flavor == 'peanut butter'? I predict False.\n",
      "False\n",
      "\n",
      "Is flavor == 'caramel'? I predict False.\n",
      "False\n",
      "\n",
      "Is flavor == 'coconut'? I predict False.\n",
      "False\n",
      "Is flavor == 'chocolate'? I predict True.\n",
      "True\n",
      "Is flavor == 'cookies & cream'? I predict True.\n",
      "True\n",
      "Is flavor == 'mango'? I predict True.\n",
      "True\n",
      "Is flavor == 'blueberry'? I predict True.\n",
      "True\n",
      "Is flavor == 'coffee'? I predict True.\n",
      "True\n"
     ]
    }
   ],
   "source": [
    "flavor = 'chocolate'\n",
    "\n",
    "print(\"\\nIs flavor == 'vanilla'? I predict False.\")\n",
    "print(flavor == 'vanilla')\n",
    "\n",
    "print(\"\\nIs flavor == 'strawberry'? I predict False.\")\n",
    "print(flavor == 'strawberry')\n",
    "\n",
    "print(\"\\nIs flavor == 'peanut butter'? I predict False.\")\n",
    "print(flavor == 'peanut butter')\n",
    "\n",
    "print(\"\\nIs flavor == 'caramel'? I predict False.\")\n",
    "print(flavor == 'caramel')\n",
    "\n",
    "print(\"\\nIs flavor == 'coconut'? I predict False.\")\n",
    "print(flavor == 'coconut')\n",
    "\n",
    "print(\"Is flavor == 'chocolate'? I predict True.\")\n",
    "print(flavor == 'chocolate')\n",
    "\n",
    "flavor = 'cookies & cream'\n",
    "print(\"Is flavor == 'cookies & cream'? I predict True.\")\n",
    "print(flavor == 'cookies & cream')\n",
    "\n",
    "flavor = 'mango'\n",
    "print(\"Is flavor == 'mango'? I predict True.\")\n",
    "print(flavor == 'mango')\n",
    "\n",
    "flavor = 'blueberry'\n",
    "print(\"Is flavor == 'blueberry'? I predict True.\")\n",
    "print(flavor == 'blueberry')\n",
    "\n",
    "flavor = 'coffee'\n",
    "print(\"Is flavor == 'coffee'? I predict True.\")\n",
    "print(flavor == 'coffee')"
   ]
  },
  {
   "cell_type": "markdown",
   "id": "14745481",
   "metadata": {},
   "source": [
    "### 5-2"
   ]
  },
  {
   "cell_type": "code",
   "execution_count": 1,
   "id": "64dd3cbe",
   "metadata": {
    "scrolled": true
   },
   "outputs": [
    {
     "name": "stdout",
     "output_type": "stream",
     "text": [
      "False\n",
      "False\n",
      "False\n",
      "True\n",
      "False\n",
      "False\n",
      "chai\n",
      "latte\n",
      "matcha\n",
      "coffee\n",
      "water\n",
      "NUMERICAL TESTS:\n",
      "False\n",
      "True\n",
      "True\n",
      "False\n",
      "False\n",
      "True\n",
      "False\n",
      "10\n"
     ]
    }
   ],
   "source": [
    "drinks = ['Chai', 'LAtTe', 'matcha', 'coffee', 'water']\n",
    "\n",
    "#tests for equality and inequality with strings\n",
    "print('chai' == drinks[0])\n",
    "print(\"lattess\" == drinks[1])\n",
    "\n",
    "#test whether an item is in a list\n",
    "print('chai' in drinks)\n",
    "print('matcha' in drinks)\n",
    "\n",
    "#test whether an item is not in a list\n",
    "print('boba' in drinks)\n",
    "print('seltzer' in drinks)\n",
    "\n",
    "#test using the lower() function\n",
    "i = 0;\n",
    "for drink in drinks:\n",
    "    if (drink != drink.lower()):\n",
    "        print(drink.lower())\n",
    "    else:\n",
    "        print(drink)\n",
    "    \n",
    "#numerical tests (==, !=, >, <, <=, <=) \n",
    "print(\"NUMERICAL TESTS:\")\n",
    "big = 10;\n",
    "small = 2;\n",
    "print(big == small)\n",
    "print(big != small)\n",
    "print(big > small)\n",
    "print(big < small)\n",
    "print(big <= small)\n",
    "print(big >= small)\n",
    "\n",
    "#and/or keywords \n",
    "really_big = 20 \n",
    "print(big and small >= really_big)\n",
    "print(big or small >= really_big)\n"
   ]
  },
  {
   "cell_type": "markdown",
   "id": "32f036e7",
   "metadata": {},
   "source": [
    "### 5-6"
   ]
  },
  {
   "cell_type": "code",
   "execution_count": 23,
   "id": "d88eaa55",
   "metadata": {},
   "outputs": [
    {
     "name": "stdout",
     "output_type": "stream",
     "text": [
      "Adult\n"
     ]
    }
   ],
   "source": [
    "age = 21\n",
    "\n",
    "if (age < 2):\n",
    "    print('Baby')\n",
    "elif (age == 2) or ((age > 2) and (age < 4)):\n",
    "    print('Toddler')\n",
    "elif (age == 4) or ((age > 4) and (age < 13)):\n",
    "    print('Kid')\n",
    "elif (age == 13) or ((age > 13) and (age < 20)):\n",
    "    print('Teenager')\n",
    "elif (age == 20) or ((age > 20) and (age < 65)):\n",
    "    print('Adult')\n",
    "elif (age >= 65):\n",
    "    print(\"Elder\")"
   ]
  },
  {
   "cell_type": "markdown",
   "id": "9f741c65",
   "metadata": {},
   "source": [
    "### 5-7"
   ]
  },
  {
   "cell_type": "code",
   "execution_count": 26,
   "id": "aa00c111",
   "metadata": {},
   "outputs": [
    {
     "name": "stdout",
     "output_type": "stream",
     "text": [
      "You really like apples\n",
      "You really like oranges\n",
      "You really like peaches\n"
     ]
    }
   ],
   "source": [
    "fruits = ['apples', 'oranges', 'pears', 'peaches', 'bananas']\n",
    "\n",
    "if 'apples' in fruits:\n",
    "    print('You really like apples')\n",
    "if 'oranges' in fruits:\n",
    "    print('You really like oranges')\n",
    "if 'peaches' in fruits:\n",
    "    print('You really like peaches')\n",
    "if 'watermelon' in fruits:\n",
    "    print('No watermelon')\n",
    "if 'cherries' in fruits:\n",
    "    print('No cherries')"
   ]
  },
  {
   "cell_type": "markdown",
   "id": "bbd927a3",
   "metadata": {},
   "source": [
    "### 5-8"
   ]
  },
  {
   "cell_type": "code",
   "execution_count": 7,
   "id": "ad00f974",
   "metadata": {},
   "outputs": [
    {
     "name": "stdout",
     "output_type": "stream",
     "text": [
      "Hello User1, thank you for logging in again\n",
      "Hello User2, thank you for logging in again\n",
      "Hello User3, thank you for logging in again\n",
      "Hello User4, thank you for logging in again\n",
      "Hello Admin, would you like to see a status report?\n"
     ]
    }
   ],
   "source": [
    "usernames = ['user1', 'user2', 'user3', 'user4', 'admin']\n",
    "\n",
    "for username in usernames:\n",
    "    if username == 'admin':\n",
    "        print('Hello Admin, would you like to see a status report?')\n",
    "    else:\n",
    "        print('Hello ' + username.title() + ', thank you for logging in again')\n",
    "        "
   ]
  },
  {
   "cell_type": "markdown",
   "id": "98c8930f",
   "metadata": {},
   "source": [
    "### 5-9"
   ]
  },
  {
   "cell_type": "code",
   "execution_count": 11,
   "id": "1422b211",
   "metadata": {},
   "outputs": [
    {
     "name": "stdout",
     "output_type": "stream",
     "text": [
      "We need to find some users!\n"
     ]
    }
   ],
   "source": [
    "usernames = []\n",
    "\n",
    "\n",
    "if not usernames:\n",
    "    print('We need to find some users!')\n",
    "else:\n",
    "    for username in usernames:\n",
    "        if username == 'admin':\n",
    "            print('Hello Admin, would you like to see a status report?')\n",
    "        else:\n",
    "            print('Hello ' + username.title() + ', thank you for logging in again')"
   ]
  },
  {
   "cell_type": "markdown",
   "id": "b7582317",
   "metadata": {},
   "source": [
    "### 5-10"
   ]
  },
  {
   "cell_type": "code",
   "execution_count": 19,
   "id": "e669720a",
   "metadata": {},
   "outputs": [
    {
     "name": "stdout",
     "output_type": "stream",
     "text": [
      "The name, user4, already exists\n",
      "The name, user5, already exists\n",
      "This username is available!\n",
      "This username is available!\n",
      "This username is available!\n"
     ]
    }
   ],
   "source": [
    "current_users = ['user1', 'user2', 'user3', 'user4', 'user5']\n",
    "new_users = ['user4', 'user5', 'user6', 'user7', 'user8']\n",
    "\n",
    "for new_user in new_users:\n",
    "    if new_user in current_users:\n",
    "        print(\"The name, \" + new_user + \", already exists\")\n",
    "    else:\n",
    "        print(\"This username is available!\")"
   ]
  },
  {
   "cell_type": "code",
   "execution_count": null,
   "id": "204c60e2",
   "metadata": {},
   "outputs": [],
   "source": []
  }
 ],
 "metadata": {
  "kernelspec": {
   "display_name": "Python 3 (ipykernel)",
   "language": "python",
   "name": "python3"
  },
  "language_info": {
   "codemirror_mode": {
    "name": "ipython",
    "version": 3
   },
   "file_extension": ".py",
   "mimetype": "text/x-python",
   "name": "python",
   "nbconvert_exporter": "python",
   "pygments_lexer": "ipython3",
   "version": "3.11.4"
  }
 },
 "nbformat": 4,
 "nbformat_minor": 5
}

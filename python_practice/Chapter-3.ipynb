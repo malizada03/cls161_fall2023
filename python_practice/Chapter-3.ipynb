{
 "cells": [
  {
   "cell_type": "markdown",
   "id": "26ac734b",
   "metadata": {},
   "source": [
    "## Chapter 3 "
   ]
  },
  {
   "cell_type": "markdown",
   "id": "de846065",
   "metadata": {},
   "source": [
    "### 3-1"
   ]
  },
  {
   "cell_type": "code",
   "execution_count": 1,
   "id": "5a974cbe",
   "metadata": {
    "scrolled": false
   },
   "outputs": [
    {
     "name": "stdout",
     "output_type": "stream",
     "text": [
      "Anya\n",
      "Grace\n",
      "Elise\n",
      "Stephanie\n"
     ]
    }
   ],
   "source": [
    "names = ['Anya', 'Grace','Elise', 'Stephanie']\n",
    "print(names[0])\n",
    "print(names[1])\n",
    "print(names[2])\n",
    "print(names[3])"
   ]
  },
  {
   "cell_type": "markdown",
   "id": "bda360f1",
   "metadata": {},
   "source": [
    "### 3-2"
   ]
  },
  {
   "cell_type": "code",
   "execution_count": 2,
   "id": "cd5424b6",
   "metadata": {
    "scrolled": false
   },
   "outputs": [
    {
     "name": "stdout",
     "output_type": "stream",
     "text": [
      "Hey Anya, want to grab lunch soon?\n",
      "Hey Grace, want to grab lunch soon?\n",
      "Hey Elise, want to grab lunch soon?\n",
      "Hey Stephanie, want to grab lunch soon?\n"
     ]
    }
   ],
   "source": [
    "print(\"Hey \" + names[0] + \", want to grab lunch soon?\")\n",
    "print(\"Hey \" + names[1] + \", want to grab lunch soon?\")\n",
    "print(\"Hey \" + names[2] + \", want to grab lunch soon?\")\n",
    "print(\"Hey \" + names[3] + \", want to grab lunch soon?\")"
   ]
  },
  {
   "cell_type": "markdown",
   "id": "9d3d527d",
   "metadata": {},
   "source": [
    "### 3-3"
   ]
  },
  {
   "cell_type": "code",
   "execution_count": 3,
   "id": "c43eaa1f",
   "metadata": {},
   "outputs": [
    {
     "name": "stdout",
     "output_type": "stream",
     "text": [
      "A scooter is not as fast as a bike.\n",
      "It would be cool to own a boat.\n"
     ]
    }
   ],
   "source": [
    "transport = [\"scooter\", \"bike\", \"boat\"]\n",
    "print(\"A \" + transport[0] + \" is not as fast as a \" + transport[1] \n",
    "      + \".\\nIt would be cool to own a \" + transport[2] + \".\")"
   ]
  },
  {
   "cell_type": "markdown",
   "id": "e79790ee",
   "metadata": {},
   "source": [
    "### 3-4"
   ]
  },
  {
   "cell_type": "code",
   "execution_count": 4,
   "id": "f922f55f",
   "metadata": {},
   "outputs": [
    {
     "name": "stdout",
     "output_type": "stream",
     "text": [
      "Hi Martin Luther King Jr, I'd like to invite you to dinner\n",
      "Hi Marilyn Monroe, I'd like to invite you to dinner\n",
      "Hi David Eagleman, I'd like to invite you to dinner\n"
     ]
    }
   ],
   "source": [
    "guest_list = [\"Martin Luther King Jr\", \"Marilyn Monroe\", \"David Eagleman\"]\n",
    "print(\"Hi \" + guest_list[0] + \", I'd like to invite you to dinner\")\n",
    "print(\"Hi \" + guest_list[1] + \", I'd like to invite you to dinner\")\n",
    "print(\"Hi \" + guest_list[2] + \", I'd like to invite you to dinner\")"
   ]
  },
  {
   "cell_type": "markdown",
   "id": "f3eb28ae",
   "metadata": {},
   "source": [
    "### 3-5"
   ]
  },
  {
   "cell_type": "code",
   "execution_count": 5,
   "id": "b68f0074",
   "metadata": {},
   "outputs": [
    {
     "name": "stdout",
     "output_type": "stream",
     "text": [
      "Martin Luther King Jr cannot make dinner.\n",
      "\n",
      "Hi Marilyn Monroe, I'd like to invite you to dinner\n",
      "Hi David Eagleman, I'd like to invite you to dinner\n",
      "Hi Jack Harlow, I'd like to invite you to dinner\n"
     ]
    }
   ],
   "source": [
    "print(guest_list[0] + \" cannot make dinner.\\n\")\n",
    "guest_list.pop(0)\n",
    "guest_list.append(\"Jack Harlow\")\n",
    "print(\"Hi \" + guest_list[0] + \", I'd like to invite you to dinner\")\n",
    "print(\"Hi \" + guest_list[1] + \", I'd like to invite you to dinner\")\n",
    "print(\"Hi \" + guest_list[2] + \", I'd like to invite you to dinner\")"
   ]
  },
  {
   "cell_type": "markdown",
   "id": "22f63564",
   "metadata": {},
   "source": [
    "### 3-6\n"
   ]
  },
  {
   "cell_type": "code",
   "execution_count": 6,
   "id": "91f9183a",
   "metadata": {},
   "outputs": [
    {
     "name": "stdout",
     "output_type": "stream",
     "text": [
      "We found a bigger table!\n",
      "\n",
      "Hi Abe Lincoln, I'd like to invite you to dinner\n",
      "Hi Marilyn Monroe, I'd like to invite you to dinner\n",
      "Hi Dumbledore, I'd like to invite you to dinner\n",
      "Hi David Eagleman, I'd like to invite you to dinner\n",
      "Hi Jack Harlow, I'd like to invite you to dinner\n",
      "Hi Maya Angelou, I'd like to invite you to dinner\n"
     ]
    }
   ],
   "source": [
    "print(\"We found a bigger table!\\n\")\n",
    "guest_list.insert(0, \"Abe Lincoln\")\n",
    "guest_list.insert(2, \"Dumbledore\")\n",
    "guest_list.append(\"Maya Angelou\")\n",
    "print(\"Hi \" + guest_list[0] + \", I'd like to invite you to dinner\")\n",
    "print(\"Hi \" + guest_list[1] + \", I'd like to invite you to dinner\")\n",
    "print(\"Hi \" + guest_list[2] + \", I'd like to invite you to dinner\")\n",
    "print(\"Hi \" + guest_list[3] + \", I'd like to invite you to dinner\")\n",
    "print(\"Hi \" + guest_list[4] + \", I'd like to invite you to dinner\")\n",
    "print(\"Hi \" + guest_list[5] + \", I'd like to invite you to dinner\")"
   ]
  },
  {
   "cell_type": "markdown",
   "id": "2333b967",
   "metadata": {},
   "source": [
    "### 3-7"
   ]
  },
  {
   "cell_type": "code",
   "execution_count": 7,
   "id": "8b9b639d",
   "metadata": {
    "scrolled": true
   },
   "outputs": [
    {
     "name": "stdout",
     "output_type": "stream",
     "text": [
      "Unfortunately, we only have space for two people!\n",
      "\n",
      "Sorry we can't do dinner, Maya Angelou\n",
      "Sorry we can't do dinner, Jack Harlow\n",
      "Sorry we can't do dinner, David Eagleman\n",
      "Sorry we can't do dinner, Dumbledore\n",
      "\n",
      "Abe Lincoln and Marilyn Monroe are still invited to dinner!\n",
      "[]\n"
     ]
    }
   ],
   "source": [
    "print(\"Unfortunately, we only have space for two people!\\n\")\n",
    "print(\"Sorry we can't do dinner, \" + guest_list[5])\n",
    "guest_list.pop()\n",
    "print(\"Sorry we can't do dinner, \" + guest_list[4])\n",
    "guest_list.pop()\n",
    "print(\"Sorry we can't do dinner, \" + guest_list[3])\n",
    "guest_list.pop()\n",
    "print(\"Sorry we can't do dinner, \" + guest_list[2] + \"\\n\")\n",
    "guest_list.pop()\n",
    "print(guest_list[0] + \" and \" + guest_list[1] + \" are still invited to dinner!\")\n",
    "del guest_list[1]\n",
    "del guest_list[0]\n",
    "print(guest_list) "
   ]
  },
  {
   "cell_type": "markdown",
   "id": "a58357f1",
   "metadata": {},
   "source": [
    "### 3-8"
   ]
  },
  {
   "cell_type": "code",
   "execution_count": 13,
   "id": "0af13237",
   "metadata": {},
   "outputs": [
    {
     "name": "stdout",
     "output_type": "stream",
     "text": [
      "['Australia', 'Iceland', 'Alaska', 'Prauge', 'Chicago']\n",
      "['Alaska', 'Australia', 'Chicago', 'Iceland', 'Prauge']\n",
      "['Australia', 'Iceland', 'Alaska', 'Prauge', 'Chicago']\n",
      "['Prauge', 'Iceland', 'Chicago', 'Australia', 'Alaska']\n",
      "['Alaska', 'Australia', 'Chicago', 'Iceland', 'Prauge']\n",
      "['Prauge', 'Iceland', 'Chicago', 'Australia', 'Alaska']\n",
      "['Alaska', 'Australia', 'Chicago', 'Iceland', 'Prauge']\n",
      "['Alaska', 'Australia', 'Chicago', 'Iceland', 'Prauge']\n",
      "['Prauge', 'Iceland', 'Chicago', 'Australia', 'Alaska']\n"
     ]
    }
   ],
   "source": [
    "locations = [\"Australia\", \"Iceland\", \"Alaska\", \"Prauge\", \"Chicago\"]\n",
    "print(locations) #original order\n",
    "print(sorted(locations)) #sorted alphabetically without modifying list\n",
    "print(locations) #original order of list remains\n",
    "locations.sort(reverse=True) #reverse alphabetical order\n",
    "print(locations) #original order of list remains\n",
    "locations.reverse()\n",
    "print(locations) #original list order changed to reverse\n",
    "locations.reverse()\n",
    "print(locations) #reverse order and change original list\n",
    "locations.reverse() #back to original\n",
    "print(locations)\n",
    "locations.sort() #alphabetical order \n",
    "print(locations)\n",
    "locations.reverse()\n",
    "print(locations)"
   ]
  },
  {
   "cell_type": "code",
   "execution_count": null,
   "id": "86eac27b",
   "metadata": {},
   "outputs": [],
   "source": []
  },
  {
   "cell_type": "code",
   "execution_count": null,
   "id": "8b182685",
   "metadata": {},
   "outputs": [],
   "source": []
  }
 ],
 "metadata": {
  "kernelspec": {
   "display_name": "Python 3 (ipykernel)",
   "language": "python",
   "name": "python3"
  },
  "language_info": {
   "codemirror_mode": {
    "name": "ipython",
    "version": 3
   },
   "file_extension": ".py",
   "mimetype": "text/x-python",
   "name": "python",
   "nbconvert_exporter": "python",
   "pygments_lexer": "ipython3",
   "version": "3.11.4"
  }
 },
 "nbformat": 4,
 "nbformat_minor": 5
}

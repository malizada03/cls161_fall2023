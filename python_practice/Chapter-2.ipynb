{
 "cells": [
  {
   "cell_type": "markdown",
   "id": "de4cac13",
   "metadata": {},
   "source": [
    "# Chapter 2"
   ]
  },
  {
   "cell_type": "markdown",
   "id": "910cacf3",
   "metadata": {},
   "source": [
    "### 2-1"
   ]
  },
  {
   "cell_type": "code",
   "execution_count": 1,
   "id": "1dd7da5e",
   "metadata": {},
   "outputs": [
    {
     "name": "stdout",
     "output_type": "stream",
     "text": [
      "Hello World!\n"
     ]
    }
   ],
   "source": [
    "message = \"Hello World!\"\n",
    "print(message)"
   ]
  },
  {
   "cell_type": "markdown",
   "id": "8af9f621",
   "metadata": {},
   "source": [
    "### 2-2"
   ]
  },
  {
   "cell_type": "code",
   "execution_count": 5,
   "id": "10c25905",
   "metadata": {},
   "outputs": [
    {
     "name": "stdout",
     "output_type": "stream",
     "text": [
      "original message\n",
      "updated message\n"
     ]
    }
   ],
   "source": [
    "message_2 = \"original message printed\"\n",
    "print(message_2)\n",
    "message_2 = \"updated message printed\"\n",
    "print(message_2)"
   ]
  },
  {
   "cell_type": "markdown",
   "id": "608f04ec",
   "metadata": {},
   "source": [
    "### 2-3"
   ]
  },
  {
   "cell_type": "code",
   "execution_count": 9,
   "id": "5e4bc1b4",
   "metadata": {},
   "outputs": [
    {
     "name": "stdout",
     "output_type": "stream",
     "text": [
      "Hi Mom, I stole your shirt.\n"
     ]
    }
   ],
   "source": [
    "name = \"Mom\"\n",
    "message = \" I stole your shirt.\"\n",
    "text_mom = \"Hi \" + name + \",\" + message\n",
    "print(text_mom)"
   ]
  },
  {
   "cell_type": "markdown",
   "id": "29f21fb1",
   "metadata": {},
   "source": [
    "### 2-4"
   ]
  },
  {
   "cell_type": "code",
   "execution_count": 14,
   "id": "7d475fea",
   "metadata": {},
   "outputs": [
    {
     "name": "stdout",
     "output_type": "stream",
     "text": [
      "michelle alizada\n",
      "MICHELLE ALIZADA\n",
      "Michelle Alizada\n"
     ]
    }
   ],
   "source": [
    "name = \"mICHelle AlIZada\"\n",
    "print(name.lower())\n",
    "print(name.upper())\n",
    "print(name.title())"
   ]
  },
  {
   "cell_type": "markdown",
   "id": "f04c8cb8",
   "metadata": {},
   "source": [
    "### 2-5"
   ]
  },
  {
   "cell_type": "code",
   "execution_count": 23,
   "id": "5ba0030e",
   "metadata": {},
   "outputs": [
    {
     "name": "stdout",
     "output_type": "stream",
     "text": [
      "Frank Zappa once said, \"So many books, so little time.\"\n"
     ]
    }
   ],
   "source": [
    "quote = '\"So many books, so little time.\"'\n",
    "print(\"Frank Zappa once said, \" + quote)"
   ]
  },
  {
   "cell_type": "markdown",
   "id": "3d32ad8f",
   "metadata": {},
   "source": [
    "### 2-6"
   ]
  },
  {
   "cell_type": "code",
   "execution_count": 21,
   "id": "5a7afa9d",
   "metadata": {},
   "outputs": [
    {
     "name": "stdout",
     "output_type": "stream",
     "text": [
      "Frank Zappa once said, \"So many books, so little time.\"\n"
     ]
    }
   ],
   "source": [
    "quote = '\"So many books, so little time.\"'\n",
    "famous_person = \"frank zappa\"\n",
    "print(famous_person.title() + \" once said, \" + quote)"
   ]
  },
  {
   "cell_type": "markdown",
   "id": "523c697e",
   "metadata": {},
   "source": [
    "### 2-7"
   ]
  },
  {
   "cell_type": "code",
   "execution_count": 31,
   "id": "eb53a5ba",
   "metadata": {},
   "outputs": [
    {
     "name": "stdout",
     "output_type": "stream",
     "text": [
      "\tMarilyn Monroe\n",
      "\n",
      "\tMarilyn Monroe\n",
      "Marilyn Monroe\n",
      "\n",
      "Marilyn Monroe\n"
     ]
    }
   ],
   "source": [
    "name = \"\\tMarilyn Monroe\\n\"\n",
    "print(name)\n",
    "print(name.rstrip())\n",
    "print(name.lstrip())\n",
    "print(name.strip())"
   ]
  },
  {
   "cell_type": "code",
   "execution_count": null,
   "id": "aa40d78b",
   "metadata": {},
   "outputs": [],
   "source": []
  }
 ],
 "metadata": {
  "kernelspec": {
   "display_name": "Python 3 (ipykernel)",
   "language": "python",
   "name": "python3"
  },
  "language_info": {
   "codemirror_mode": {
    "name": "ipython",
    "version": 3
   },
   "file_extension": ".py",
   "mimetype": "text/x-python",
   "name": "python",
   "nbconvert_exporter": "python",
   "pygments_lexer": "ipython3",
   "version": "3.11.4"
  }
 },
 "nbformat": 4,
 "nbformat_minor": 5
}

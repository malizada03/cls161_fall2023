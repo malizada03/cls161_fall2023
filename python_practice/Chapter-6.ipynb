{
 "cells": [
  {
   "cell_type": "markdown",
   "id": "6f28dacc",
   "metadata": {},
   "source": [
    "# Chapter 6"
   ]
  },
  {
   "cell_type": "markdown",
   "id": "92def4f7",
   "metadata": {},
   "source": [
    "### 6-1"
   ]
  },
  {
   "cell_type": "code",
   "execution_count": 5,
   "id": "0e3a1bce",
   "metadata": {},
   "outputs": [
    {
     "name": "stdout",
     "output_type": "stream",
     "text": [
      "jack\n",
      "harlow\n",
      "25\n",
      "louisville\n"
     ]
    }
   ],
   "source": [
    "person = {'first_name': 'jack', \n",
    "          'last_name': 'harlow', \n",
    "          'age': 25, 'city': \n",
    "          'louisville'}\n",
    "print(person['first_name'])\n",
    "print(person['last_name'])\n",
    "print(person['age'])\n",
    "print(person['city'])"
   ]
  },
  {
   "cell_type": "markdown",
   "id": "d707f100",
   "metadata": {},
   "source": [
    "### 6-2"
   ]
  },
  {
   "cell_type": "code",
   "execution_count": 18,
   "id": "dabc0ccf",
   "metadata": {},
   "outputs": [
    {
     "name": "stdout",
     "output_type": "stream",
     "text": [
      "Beth's favorite language is 13.\n",
      "Bea's favorite language is 25.\n",
      "Ed's favorite language is 4.\n",
      "Fiona's favorite language is 6.\n"
     ]
    }
   ],
   "source": [
    "favorite_numbers = {\n",
    "       'beth': 13,\n",
    "       'bea': 25,\n",
    "       'ed': 4,\n",
    "       'fiona': 6,\n",
    "       }\n",
    "print(\"Beth's favorite language is \" + str(favorite_numbers['beth']) + \".\")\n",
    "print(\"Bea's favorite language is \" + str(favorite_numbers['bea']) + \".\")\n",
    "print(\"Ed's favorite language is \" + str(favorite_numbers['ed']) + \".\")\n",
    "print(\"Fiona's favorite language is \" + str(favorite_numbers['fiona']) + \".\")"
   ]
  },
  {
   "cell_type": "markdown",
   "id": "77168fde",
   "metadata": {},
   "source": [
    "### 6-3"
   ]
  },
  {
   "cell_type": "code",
   "execution_count": 49,
   "id": "fe1cd58d",
   "metadata": {
    "scrolled": true
   },
   "outputs": [
    {
     "name": "stdout",
     "output_type": "stream",
     "text": [
      "dictionary: collection of key-value pairs\n",
      "key: field used to retreive the data or value associated with it\n",
      "value: the data that is returned when its associated key is provided\n",
      "del: completely removes a key-value pair\n",
      "dynamic: capable of action or change\n"
     ]
    }
   ],
   "source": [
    "glossary = {\n",
    "    'dictionary': 'collection of key-value pairs',\n",
    "    'key': 'field used to retreive the data or value associated with it',\n",
    "    'value': 'the data that is returned when its associated key is provided',\n",
    "    'del': 'completely removes a key-value pair',\n",
    "    'dynamic': 'capable of action or change',\n",
    "    }\n",
    "print(\n",
    "    'dictionary: ' + glossary['dictionary'] + '\\n'\n",
    "    'key: ' + glossary['key'] + '\\n' +\n",
    "    'value: ' + glossary['value'] + '\\n' +\n",
    "    'del: ' + glossary['del'] + '\\n' +\n",
    "    'dynamic: ' + glossary['dynamic'])"
   ]
  },
  {
   "cell_type": "markdown",
   "id": "7265e775",
   "metadata": {},
   "source": [
    "### 6-4"
   ]
  },
  {
   "cell_type": "code",
   "execution_count": 65,
   "id": "a856c092",
   "metadata": {},
   "outputs": [
    {
     "name": "stdout",
     "output_type": "stream",
     "text": [
      "Dictionary is a collection of key-value pairs.\n",
      "Key is a field used to retreive the data or value associated with it.\n",
      "Value is the data that is returned when its associated key is provided.\n",
      "Del is is a python command that completely removes a key-value pair.\n",
      "Dynamic is  a term that describes python dictionaries: capable of action or change.\n",
      ".Set() is a function that checks for repeats and does not print/provide repeated values.\n",
      ".Values() is a function that provides all values.\n",
      ".Sort() is a function that sorts an otherwise unordered dictionary.\n",
      ".Key() is a function that that provides all keys in a dictionary.\n"
     ]
    }
   ],
   "source": [
    "glossary = {\n",
    "    'dictionary': 'a collection of key-value pairs',\n",
    "    'key': 'a field used to retreive the data or value associated with it',\n",
    "    'value': 'the data that is returned when its associated key is provided',\n",
    "    'del': 'is a python command that completely removes a key-value pair',\n",
    "    'dynamic': ' a term that describes python dictionaries: capable of action or change',\n",
    "    '.set()' : 'a function that checks for repeats and does not print/provide repeated values',\n",
    "    '.values()' : 'a function that provides all values',\n",
    "    '.sort()' : 'a function that sorts an otherwise unordered dictionary',\n",
    "    '.key()' : 'a function that that provides all keys in a dictionary',\n",
    "    }\n",
    "\n",
    "for word, definition in glossary.items():\n",
    "    print(word.title() + \" is \" + definition + \".\")"
   ]
  },
  {
   "cell_type": "code",
   "execution_count": 75,
   "id": "64afc503",
   "metadata": {},
   "outputs": [
    {
     "name": "stdout",
     "output_type": "stream",
     "text": [
      "The Yellow River runs through China.\n",
      "The Amazon River runs through Brazil.\n",
      "The Nile River runs through Egypt.\n",
      "\n",
      "\n",
      "Yellow\n",
      "Amazon\n",
      "Nile\n",
      "\n",
      "\n",
      "China\n",
      "Brazil\n",
      "Egypt\n"
     ]
    }
   ],
   "source": [
    "rivers = {\n",
    "    'yellow' : 'china',\n",
    "    'amazon' : 'brazil',\n",
    "    'nile' : 'egypt',\n",
    "    }\n",
    "for riv_name, country in rivers.items():\n",
    "    print(\"The \" + riv_name.title() + \" River runs through \" + country.title() + \".\")\n",
    "\n",
    "\n",
    "print('\\n')  #printing each river name\n",
    "for riv_name in rivers.keys():\n",
    "    print(riv_name.title())\n",
    "    \n",
    "print('\\n')  #printing each country name\n",
    "for country in rivers.values():\n",
    "    print(country.title())"
   ]
  },
  {
   "cell_type": "markdown",
   "id": "47e74aa3",
   "metadata": {},
   "source": [
    "### 6-6"
   ]
  },
  {
   "cell_type": "code",
   "execution_count": null,
   "id": "83f914b6",
   "metadata": {},
   "outputs": [],
   "source": []
  }
 ],
 "metadata": {
  "kernelspec": {
   "display_name": "Python 3 (ipykernel)",
   "language": "python",
   "name": "python3"
  },
  "language_info": {
   "codemirror_mode": {
    "name": "ipython",
    "version": 3
   },
   "file_extension": ".py",
   "mimetype": "text/x-python",
   "name": "python",
   "nbconvert_exporter": "python",
   "pygments_lexer": "ipython3",
   "version": "3.11.4"
  }
 },
 "nbformat": 4,
 "nbformat_minor": 5
}

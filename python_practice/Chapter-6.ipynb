{
 "cells": [
  {
   "cell_type": "markdown",
   "id": "6f28dacc",
   "metadata": {},
   "source": [
    "# Chapter 6"
   ]
  },
  {
   "cell_type": "markdown",
   "id": "92def4f7",
   "metadata": {},
   "source": [
    "### 6-1"
   ]
  },
  {
   "cell_type": "code",
   "execution_count": 5,
   "id": "0e3a1bce",
   "metadata": {},
   "outputs": [
    {
     "name": "stdout",
     "output_type": "stream",
     "text": [
      "jack\n",
      "harlow\n",
      "25\n",
      "louisville\n"
     ]
    }
   ],
   "source": [
    "person = {'first_name': 'jack', \n",
    "          'last_name': 'harlow', \n",
    "          'age': 25, 'city': \n",
    "          'louisville'}\n",
    "print(person['first_name'])\n",
    "print(person['last_name'])\n",
    "print(person['age'])\n",
    "print(person['city'])"
   ]
  },
  {
   "cell_type": "markdown",
   "id": "d707f100",
   "metadata": {},
   "source": [
    "### 6-2"
   ]
  },
  {
   "cell_type": "code",
   "execution_count": 18,
   "id": "dabc0ccf",
   "metadata": {},
   "outputs": [
    {
     "name": "stdout",
     "output_type": "stream",
     "text": [
      "Beth's favorite language is 13.\n",
      "Bea's favorite language is 25.\n",
      "Ed's favorite language is 4.\n",
      "Fiona's favorite language is 6.\n"
     ]
    }
   ],
   "source": [
    "favorite_numbers = {\n",
    "       'beth': 13,\n",
    "       'bea': 25,\n",
    "       'ed': 4,\n",
    "       'fiona': 6,\n",
    "       }\n",
    "print(\"Beth's favorite language is \" + str(favorite_numbers['beth']) + \".\")\n",
    "print(\"Bea's favorite language is \" + str(favorite_numbers['bea']) + \".\")\n",
    "print(\"Ed's favorite language is \" + str(favorite_numbers['ed']) + \".\")\n",
    "print(\"Fiona's favorite language is \" + str(favorite_numbers['fiona']) + \".\")"
   ]
  },
  {
   "cell_type": "markdown",
   "id": "77168fde",
   "metadata": {},
   "source": [
    "### 6-3"
   ]
  },
  {
   "cell_type": "code",
   "execution_count": 49,
   "id": "fe1cd58d",
   "metadata": {
    "scrolled": true
   },
   "outputs": [
    {
     "name": "stdout",
     "output_type": "stream",
     "text": [
      "dictionary: collection of key-value pairs\n",
      "key: field used to retreive the data or value associated with it\n",
      "value: the data that is returned when its associated key is provided\n",
      "del: completely removes a key-value pair\n",
      "dynamic: capable of action or change\n"
     ]
    }
   ],
   "source": [
    "glossary = {\n",
    "    'dictionary': 'collection of key-value pairs',\n",
    "    'key': 'field used to retreive the data or value associated with it',\n",
    "    'value': 'the data that is returned when its associated key is provided',\n",
    "    'del': 'completely removes a key-value pair',\n",
    "    'dynamic': 'capable of action or change',\n",
    "    }\n",
    "print(\n",
    "    'dictionary: ' + glossary['dictionary'] + '\\n'\n",
    "    'key: ' + glossary['key'] + '\\n' +\n",
    "    'value: ' + glossary['value'] + '\\n' +\n",
    "    'del: ' + glossary['del'] + '\\n' +\n",
    "    'dynamic: ' + glossary['dynamic'])"
   ]
  },
  {
   "cell_type": "markdown",
   "id": "7265e775",
   "metadata": {},
   "source": [
    "### 6-4"
   ]
  },
  {
   "cell_type": "code",
   "execution_count": 65,
   "id": "a856c092",
   "metadata": {},
   "outputs": [
    {
     "name": "stdout",
     "output_type": "stream",
     "text": [
      "Dictionary is a collection of key-value pairs.\n",
      "Key is a field used to retreive the data or value associated with it.\n",
      "Value is the data that is returned when its associated key is provided.\n",
      "Del is is a python command that completely removes a key-value pair.\n",
      "Dynamic is  a term that describes python dictionaries: capable of action or change.\n",
      ".Set() is a function that checks for repeats and does not print/provide repeated values.\n",
      ".Values() is a function that provides all values.\n",
      ".Sort() is a function that sorts an otherwise unordered dictionary.\n",
      ".Key() is a function that that provides all keys in a dictionary.\n"
     ]
    }
   ],
   "source": [
    "glossary = {\n",
    "    'dictionary': 'a collection of key-value pairs',\n",
    "    'key': 'a field used to retreive the data or value associated with it',\n",
    "    'value': 'the data that is returned when its associated key is provided',\n",
    "    'del': 'is a python command that completely removes a key-value pair',\n",
    "    'dynamic': ' a term that describes python dictionaries: capable of action or change',\n",
    "    '.set()' : 'a function that checks for repeats and does not print/provide repeated values',\n",
    "    '.values()' : 'a function that provides all values',\n",
    "    '.sort()' : 'a function that sorts an otherwise unordered dictionary',\n",
    "    '.key()' : 'a function that that provides all keys in a dictionary',\n",
    "    }\n",
    "\n",
    "for word, definition in glossary.items():\n",
    "    print(word.title() + \" is \" + definition + \".\")"
   ]
  },
  {
   "cell_type": "markdown",
   "id": "b286832e",
   "metadata": {},
   "source": [
    "### 6-5"
   ]
  },
  {
   "cell_type": "code",
   "execution_count": 75,
   "id": "64afc503",
   "metadata": {},
   "outputs": [
    {
     "name": "stdout",
     "output_type": "stream",
     "text": [
      "The Yellow River runs through China.\n",
      "The Amazon River runs through Brazil.\n",
      "The Nile River runs through Egypt.\n",
      "\n",
      "\n",
      "Yellow\n",
      "Amazon\n",
      "Nile\n",
      "\n",
      "\n",
      "China\n",
      "Brazil\n",
      "Egypt\n"
     ]
    }
   ],
   "source": [
    "rivers = {\n",
    "    'yellow' : 'china',\n",
    "    'amazon' : 'brazil',\n",
    "    'nile' : 'egypt',\n",
    "    }\n",
    "for riv_name, country in rivers.items():\n",
    "    print(\"The \" + riv_name.title() + \" River runs through \" + country.title() + \".\")\n",
    "\n",
    "\n",
    "print('\\n')  #printing each river name\n",
    "for riv_name in rivers.keys():\n",
    "    print(riv_name.title())\n",
    "    \n",
    "print('\\n')  #printing each country name\n",
    "for country in rivers.values():\n",
    "    print(country.title())"
   ]
  },
  {
   "cell_type": "markdown",
   "id": "47e74aa3",
   "metadata": {},
   "source": [
    "### 6-7 : people"
   ]
  },
  {
   "cell_type": "code",
   "execution_count": 35,
   "id": "83f914b6",
   "metadata": {},
   "outputs": [
    {
     "name": "stdout",
     "output_type": "stream",
     "text": [
      "dict_values(['jack', 'harlow', 25, 'louisville'])\n",
      "dict_values(['michelle', 'obama', 59, 'washington DC'])\n",
      "dict_values(['taylor', 'swift', 33, 'reading'])\n"
     ]
    }
   ],
   "source": [
    "#three dictionaries of people\n",
    "p1 = {'first_name': 'jack', \n",
    "          'last_name': 'harlow', \n",
    "          'age': 25,\n",
    "          'city': 'louisville'}\n",
    "p2 = {'first_name': 'michelle', \n",
    "          'last_name': 'obama', \n",
    "          'age': 59, \n",
    "          'city': 'washington DC'}\n",
    "p3 = {'first_name:' : 'taylor',\n",
    "          'last_name' : 'swift',\n",
    "          'age' : 33,\n",
    "          'city' : 'reading'}\n",
    "\n",
    "#list of dictionaries\n",
    "people = [p1, p2, p3]\n",
    "\n",
    "#loop through list and print each person\n",
    "for person in people:\n",
    "    print(person.values())"
   ]
  },
  {
   "cell_type": "markdown",
   "id": "a5398057",
   "metadata": {},
   "source": [
    "### 6-8 : pets"
   ]
  },
  {
   "cell_type": "code",
   "execution_count": 74,
   "id": "e645ac57",
   "metadata": {},
   "outputs": [
    {
     "name": "stdout",
     "output_type": "stream",
     "text": [
      "{'owner': 'lisa', 'type': 'cat', 'age': 'old'}\n",
      "{'owner': 'zuhal', 'type': 'cat', 'age': 'young'}\n"
     ]
    }
   ],
   "source": [
    "#list of dictionaries\n",
    "\n",
    "momo = {'owner': 'lisa', \n",
    "        'type': 'cat', \n",
    "        'age' : 'old'}\n",
    "appa = {'owner' : 'zuhal',\n",
    "       'type' : 'cat',\n",
    "       'age' : 'young'}\n",
    "\n",
    "#list of pets\n",
    "pets = [momo, appa] #list of dictionaries\n",
    "\n",
    "#printing items in list, dictionaries\n",
    "for pet in pets:\n",
    "    print(pet)"
   ]
  },
  {
   "cell_type": "markdown",
   "id": "7cd687d4",
   "metadata": {},
   "source": [
    "### 6-9 : favorite places"
   ]
  },
  {
   "cell_type": "code",
   "execution_count": 43,
   "id": "8d8c6074",
   "metadata": {
    "scrolled": true
   },
   "outputs": [
    {
     "name": "stdout",
     "output_type": "stream",
     "text": [
      "Bob's favorite places are ['new york', 'chicago', 'prague']\n",
      "Sarah's favorite places are ['south africa', 'australia']\n",
      "Ted's favorite places are ['italy', 'croatia', 'russia']\n"
     ]
    }
   ],
   "source": [
    "#dictionary of lists\n",
    "\n",
    "favorite_places = {\n",
    "    'bob' : ['new york', 'chicago', 'prague'],\n",
    "    'sarah' : ['south africa', 'australia'],\n",
    "    'ted' : ['italy','croatia','russia'],\n",
    "}\n",
    "\n",
    "#print each person's name and their favorite places\n",
    "for name, place in favorite_places.items():\n",
    "    print(str(name.title()) + \"'s favorite places are \" + str(place))"
   ]
  },
  {
   "cell_type": "markdown",
   "id": "77bc8a22",
   "metadata": {},
   "source": [
    "### 6-11 : cities"
   ]
  },
  {
   "cell_type": "code",
   "execution_count": 30,
   "id": "e5270bef",
   "metadata": {
    "scrolled": true
   },
   "outputs": [
    {
     "name": "stdout",
     "output_type": "stream",
     "text": [
      "Prague is in Czech Republic, and it has a population of 1.3 million. Prague is home to the largest castle in the world.\n",
      "\n",
      "Milan is in italy, and it has a population of 1.4 million. Milan was once a floating city.\n",
      "\n",
      "Sydney is in australia, and it has a population of 5.3 million. Sydney has over 100 beaches.\n",
      "\n"
     ]
    }
   ],
   "source": [
    "#dictionary of dictionaries\n",
    "prague = {\n",
    "    'country' : 'Czech Republic',\n",
    "    'population' : '1.3 million',\n",
    "    'fact' : 'Prague is home to the largest castle in the world.',\n",
    "}\n",
    "\n",
    "milan = {\n",
    "    'country' : 'italy',\n",
    "    'population' : '1.4 million',\n",
    "    'fact' : 'Milan was once a floating city.',\n",
    "}\n",
    "\n",
    "sydney = {\n",
    "    'country' : 'australia',\n",
    "    'population' : '5.3 million',\n",
    "    'fact' : 'Sydney has over 100 beaches.',\n",
    "}\n",
    "\n",
    "cities = {\n",
    "    'prague' : prague,\n",
    "    'milan' : milan,\n",
    "    'sydney' : sydney,\n",
    "}\n",
    "\n",
    "for city, city_info in cities.items():\n",
    "    country = city_info['country']\n",
    "    pop = city_info['population']\n",
    "    fact = city_info['fact']\n",
    "    #print(city.title() + \" is in \" + country)\n",
    "    print(city.title() + \" is in \" + country + \n",
    "          \", and it has a population of \" + pop + \". \" + fact + \"\\n\")\n",
    "    "
   ]
  },
  {
   "cell_type": "code",
   "execution_count": null,
   "id": "a73e603c",
   "metadata": {},
   "outputs": [],
   "source": []
  }
 ],
 "metadata": {
  "kernelspec": {
   "display_name": "Python 3 (ipykernel)",
   "language": "python",
   "name": "python3"
  },
  "language_info": {
   "codemirror_mode": {
    "name": "ipython",
    "version": 3
   },
   "file_extension": ".py",
   "mimetype": "text/x-python",
   "name": "python",
   "nbconvert_exporter": "python",
   "pygments_lexer": "ipython3",
   "version": "3.11.4"
  }
 },
 "nbformat": 4,
 "nbformat_minor": 5
}

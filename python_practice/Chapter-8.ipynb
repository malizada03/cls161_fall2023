{
 "cells": [
  {
   "cell_type": "markdown",
   "id": "416899a8",
   "metadata": {},
   "source": [
    "# Chapter 8 "
   ]
  },
  {
   "cell_type": "markdown",
   "id": "b83d7a40",
   "metadata": {},
   "source": [
    "### 8-1"
   ]
  },
  {
   "cell_type": "code",
   "execution_count": 4,
   "id": "7047f87e",
   "metadata": {},
   "outputs": [
    {
     "name": "stdout",
     "output_type": "stream",
     "text": [
      "We're learning about functions in this chapter.\n"
     ]
    }
   ],
   "source": [
    "def display_message():\n",
    "    \"\"\"Display a simple message\"\"\"\n",
    "    print(\"We're learning about functions in this chapter.\")\n",
    "\n",
    "display_message()"
   ]
  },
  {
   "cell_type": "markdown",
   "id": "150abe2b",
   "metadata": {},
   "source": [
    "### 8-2"
   ]
  },
  {
   "cell_type": "code",
   "execution_count": 6,
   "id": "25547328",
   "metadata": {},
   "outputs": [
    {
     "name": "stdout",
     "output_type": "stream",
     "text": [
      "One of my favorite books is The Unseen World by Liz Moore.\n"
     ]
    }
   ],
   "source": [
    "def favorite_book(title):\n",
    "    \"\"\"Working with parameters\"\"\"\n",
    "    print(\"One of my favorite books is \" + title + \".\")\n",
    "\n",
    "favorite_book('The Unseen World by Liz Moore')"
   ]
  },
  {
   "cell_type": "markdown",
   "id": "88e42a25",
   "metadata": {},
   "source": [
    "### 8-3"
   ]
  },
  {
   "cell_type": "code",
   "execution_count": 13,
   "id": "e4565577",
   "metadata": {},
   "outputs": [
    {
     "name": "stdout",
     "output_type": "stream",
     "text": [
      "The shirt is a size S. The text on the shirt says: TUFTS\n",
      "The shirt is a size M. The text on the shirt says: Boston\n"
     ]
    }
   ],
   "source": [
    "def make_shirt(size, text):\n",
    "    \"\"\"docstring\"\"\"\n",
    "    print('The shirt is a size ' + size + '. The text on the shirt says: ' + text)\n",
    "\n",
    "#positional\n",
    "make_shirt('S', 'TUFTS')\n",
    "\n",
    "#keyword\n",
    "make_shirt(text = 'Boston', size = 'M')"
   ]
  },
  {
   "cell_type": "markdown",
   "id": "8e4ce696",
   "metadata": {},
   "source": [
    "### 8-5"
   ]
  },
  {
   "cell_type": "code",
   "execution_count": 27,
   "id": "89e5eb2b",
   "metadata": {
    "scrolled": true
   },
   "outputs": [
    {
     "name": "stdout",
     "output_type": "stream",
     "text": [
      "New York City is in The United States.\n",
      "Barcelona is in Spain.\n",
      "Paris is in France.\n"
     ]
    }
   ],
   "source": [
    "def describe_city(city, country = 'the United States'):\n",
    "    \"\"\"[City] is in [country]\"\"\"\n",
    "    print(city.title() + ' is in ' + country.title() + '.')\n",
    "    \n",
    "describe_city('new york city')\n",
    "describe_city('barcelona', 'spain')\n",
    "describe_city('paris', 'france')"
   ]
  },
  {
   "cell_type": "markdown",
   "id": "d64ed562",
   "metadata": {},
   "source": [
    "### 8-6"
   ]
  },
  {
   "cell_type": "code",
   "execution_count": 30,
   "id": "10bd7d26",
   "metadata": {
    "scrolled": false
   },
   "outputs": [
    {
     "name": "stdout",
     "output_type": "stream",
     "text": [
      "Santiago, Chile\n",
      "Madrid, Spain\n",
      "Sydney, Australia\n"
     ]
    }
   ],
   "source": [
    "def city_country(city, country):\n",
    "    \"\"\"[City], [Country]\"\"\"\n",
    "    message = city.title() + \", \" + country.title()\n",
    "    return message\n",
    "\n",
    "print(city_country(\"santiago\", \"chile\"))\n",
    "print(city_country(\"madrid\", \"spain\"))\n",
    "print(city_country(\"sydney\", \"australia\"))\n",
    "    "
   ]
  },
  {
   "cell_type": "markdown",
   "id": "6dd06f77",
   "metadata": {},
   "source": [
    "### 8-7"
   ]
  },
  {
   "cell_type": "code",
   "execution_count": 39,
   "id": "105e064b",
   "metadata": {},
   "outputs": [
    {
     "name": "stdout",
     "output_type": "stream",
     "text": [
      "{'artist_name': 'Positions', 'album_title': 'Ariana Grande', 'tracks': 14}\n",
      "{'artist_name': 'Twelve Carat Toothache', 'album_title': 'Post Malone'}\n",
      "{'artist_name': 'Astroworld', 'album_title': 'Travis Scott', 'tracks': 17}\n"
     ]
    }
   ],
   "source": [
    "def make_album(artist, album, tracks=''):\n",
    "    \"\"\"returning a dictionary\"\"\"\n",
    "    music_info = {'artist_name': artist, 'album_title': album}\n",
    "    if tracks:\n",
    "        music_info['tracks'] = tracks\n",
    "    return music_info\n",
    "\n",
    "album1 = make_album('Positions', 'Ariana Grande', 14)\n",
    "album2 = make_album('Twelve Carat Toothache', 'Post Malone')\n",
    "album3 = make_album('Astroworld', 'Travis Scott', 17)\n",
    "\n",
    "print(album1)\n",
    "print(album2)\n",
    "print(album3)"
   ]
  },
  {
   "cell_type": "code",
   "execution_count": null,
   "id": "3e0ede94",
   "metadata": {},
   "outputs": [],
   "source": []
  }
 ],
 "metadata": {
  "kernelspec": {
   "display_name": "Python 3 (ipykernel)",
   "language": "python",
   "name": "python3"
  },
  "language_info": {
   "codemirror_mode": {
    "name": "ipython",
    "version": 3
   },
   "file_extension": ".py",
   "mimetype": "text/x-python",
   "name": "python",
   "nbconvert_exporter": "python",
   "pygments_lexer": "ipython3",
   "version": "3.11.4"
  }
 },
 "nbformat": 4,
 "nbformat_minor": 5
}

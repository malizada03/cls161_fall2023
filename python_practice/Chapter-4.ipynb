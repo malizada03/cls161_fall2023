{
 "cells": [
  {
   "cell_type": "markdown",
   "id": "56711df6",
   "metadata": {},
   "source": [
    "# Chapter 4"
   ]
  },
  {
   "cell_type": "markdown",
   "id": "eaec197c",
   "metadata": {},
   "source": [
    "### 4-1"
   ]
  },
  {
   "cell_type": "code",
   "execution_count": 1,
   "id": "d557603d",
   "metadata": {},
   "outputs": [
    {
     "name": "stdout",
     "output_type": "stream",
     "text": [
      "I like cheese pizza.\n",
      "I like pepperroni pizza.\n",
      "I like pineapple pizza.\n",
      "\n",
      "I really love pizza!\n"
     ]
    }
   ],
   "source": [
    "pizzas = [\"cheese\", \"pepperroni\", \"pineapple\"]\n",
    "for pizza in pizzas:\n",
    "    print(\"I like \" + pizza + \" pizza.\")\n",
    "print(\"\\nI really love pizza!\")"
   ]
  },
  {
   "cell_type": "markdown",
   "id": "7a49f475",
   "metadata": {},
   "source": [
    "### 4-2"
   ]
  },
  {
   "cell_type": "code",
   "execution_count": 2,
   "id": "8d0774b7",
   "metadata": {},
   "outputs": [
    {
     "name": "stdout",
     "output_type": "stream",
     "text": [
      "Panda bears are endangered\n",
      "Polar bears are endangered\n",
      "Gobi bears are endangered\n",
      "\n",
      "These animals are all types of endangered bears.\n"
     ]
    }
   ],
   "source": [
    "animals = ['panda', 'polar', 'gobi']\n",
    "for animal in animals:\n",
    "    print(animal.title() + \" bears are endangered\")\n",
    "print(\"\\nThese animals are all types of endangered bears.\")"
   ]
  },
  {
   "cell_type": "markdown",
   "id": "f94484d0",
   "metadata": {},
   "source": [
    "### 4-3"
   ]
  },
  {
   "cell_type": "code",
   "execution_count": 3,
   "id": "e9b5821d",
   "metadata": {},
   "outputs": [
    {
     "name": "stdout",
     "output_type": "stream",
     "text": [
      "1\n",
      "2\n",
      "3\n",
      "4\n",
      "5\n",
      "6\n",
      "7\n",
      "8\n",
      "9\n",
      "10\n",
      "11\n",
      "12\n",
      "13\n",
      "14\n",
      "15\n",
      "16\n",
      "17\n",
      "18\n",
      "19\n",
      "20\n"
     ]
    }
   ],
   "source": [
    "for value in range(1,21):\n",
    "    print(value)"
   ]
  },
  {
   "cell_type": "markdown",
   "id": "67414c14",
   "metadata": {},
   "source": [
    "### 4-6"
   ]
  },
  {
   "cell_type": "code",
   "execution_count": 4,
   "id": "98027f1b",
   "metadata": {},
   "outputs": [
    {
     "name": "stdout",
     "output_type": "stream",
     "text": [
      "[1, 3, 5, 7, 9, 11, 13, 15, 17, 19]\n"
     ]
    }
   ],
   "source": [
    "odd_numbers = list(range(1,21,2))\n",
    "print(odd_numbers)"
   ]
  },
  {
   "cell_type": "markdown",
   "id": "2c59dd4c",
   "metadata": {},
   "source": [
    "### 4-10"
   ]
  },
  {
   "cell_type": "code",
   "execution_count": 5,
   "id": "99bdfae3",
   "metadata": {},
   "outputs": [
    {
     "name": "stdout",
     "output_type": "stream",
     "text": [
      "The first three items in the list are \n",
      "['red', 'orange', 'yellow']\n",
      "\n",
      "\n",
      "Three items from the middle of the list are:\n",
      "['yellow', 'green', 'blue']\n",
      "\n",
      "\n",
      "The last three items in the list are:\n",
      "['blue', 'indigo', 'violet']\n"
     ]
    }
   ],
   "source": [
    "rainbow = ['red', 'orange', 'yellow', 'green', 'blue', 'indigo', 'violet']\n",
    "print(\"The first three items in the list are \")\n",
    "print(rainbow[:3])\n",
    "print(\"\\n\")\n",
    "\n",
    "print(\"Three items from the middle of the list are:\")\n",
    "print(rainbow[2:5])\n",
    "print(\"\\n\")\n",
    "\n",
    "print(\"The last three items in the list are:\")\n",
    "print(rainbow[4:])"
   ]
  },
  {
   "cell_type": "markdown",
   "id": "90ac53cc",
   "metadata": {},
   "source": [
    "### 4-11"
   ]
  },
  {
   "cell_type": "code",
   "execution_count": 6,
   "id": "b18e9e73",
   "metadata": {},
   "outputs": [
    {
     "name": "stdout",
     "output_type": "stream",
     "text": [
      "My favorite pizzas are:\n",
      "cheese\n",
      "pepperroni\n",
      "pineapple\n",
      "vegetable\n",
      "\n",
      "\n",
      "My friend's favorite pizzas are:\n",
      "cheese\n",
      "pepperroni\n",
      "pineapple\n",
      "meat lover\n"
     ]
    }
   ],
   "source": [
    "friend_pizzas = pizzas[:]\n",
    "pizzas.append(\"vegetable\")\n",
    "friend_pizzas.append(\"meat lover\")\n",
    "print(\"My favorite pizzas are:\")\n",
    "for pizza in pizzas:\n",
    "    print(pizza)\n",
    "print(\"\\n\")\n",
    "print(\"My friend's favorite pizzas are:\")\n",
    "for friend_pizza in friend_pizzas:\n",
    "    print(friend_pizza)\n"
   ]
  },
  {
   "cell_type": "code",
   "execution_count": null,
   "id": "2bab4df8",
   "metadata": {},
   "outputs": [],
   "source": []
  },
  {
   "cell_type": "code",
   "execution_count": null,
   "id": "a631cd3d",
   "metadata": {},
   "outputs": [],
   "source": []
  }
 ],
 "metadata": {
  "kernelspec": {
   "display_name": "Python 3 (ipykernel)",
   "language": "python",
   "name": "python3"
  },
  "language_info": {
   "codemirror_mode": {
    "name": "ipython",
    "version": 3
   },
   "file_extension": ".py",
   "mimetype": "text/x-python",
   "name": "python",
   "nbconvert_exporter": "python",
   "pygments_lexer": "ipython3",
   "version": "3.11.4"
  }
 },
 "nbformat": 4,
 "nbformat_minor": 5
}
